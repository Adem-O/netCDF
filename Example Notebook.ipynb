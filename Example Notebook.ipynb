{
 "cells": [
  {
   "cell_type": "markdown",
   "id": "35e8b217",
   "metadata": {},
   "source": [
    "# Install all Dependencies"
   ]
  },
  {
   "cell_type": "markdown",
   "id": "6df18a19",
   "metadata": {},
   "source": [
    "pip install matplotlib"
   ]
  },
  {
   "cell_type": "markdown",
   "id": "71774e5b",
   "metadata": {},
   "source": [
    "pip install numpy"
   ]
  },
  {
   "cell_type": "markdown",
   "id": "d73d8879",
   "metadata": {},
   "source": [
    "pip install cartopy"
   ]
  },
  {
   "cell_type": "markdown",
   "id": "3dfd7c42",
   "metadata": {},
   "source": [
    "pip install netCDF4 # conda install -c conda-forge netCDF4"
   ]
  },
  {
   "cell_type": "markdown",
   "id": "735631e3",
   "metadata": {},
   "source": [
    "pip install imageio"
   ]
  },
  {
   "cell_type": "markdown",
   "id": "2b1f1169",
   "metadata": {},
   "source": [
    "pip install ffmpeg"
   ]
  },
  {
   "cell_type": "markdown",
   "id": "bc144b48",
   "metadata": {},
   "source": [
    "# Import Function Library"
   ]
  },
  {
   "cell_type": "code",
   "execution_count": null,
   "id": "5a28424f",
   "metadata": {},
   "outputs": [],
   "source": [
    "from netCDF_Lib_v2 import *"
   ]
  },
  {
   "cell_type": "markdown",
   "id": "ed01747c",
   "metadata": {},
   "source": [
    "# Store folder-paths "
   ]
  },
  {
   "cell_type": "code",
   "execution_count": null,
   "id": "0c8e6634",
   "metadata": {},
   "outputs": [],
   "source": [
    "Folder_monthly = r'<paste folder-path here>'\n",
    "Folder_daily = r'<paste folder-path here>'"
   ]
  },
  {
   "cell_type": "markdown",
   "id": "4c15335b",
   "metadata": {},
   "source": [
    "# Select a single folder"
   ]
  },
  {
   "cell_type": "code",
   "execution_count": null,
   "id": "1469b8a8",
   "metadata": {},
   "outputs": [],
   "source": [
    "File = MultiFile_FileNames(Folder_monthly)[0]"
   ]
  },
  {
   "cell_type": "markdown",
   "id": "5c4c04f6",
   "metadata": {},
   "source": [
    "# Simple Data Plot"
   ]
  },
  {
   "cell_type": "code",
   "execution_count": null,
   "id": "8aadada6",
   "metadata": {},
   "outputs": [],
   "source": [
    "KD490_Plot_Data(File)"
   ]
  },
  {
   "cell_type": "markdown",
   "id": "695b22c4",
   "metadata": {},
   "source": [
    "# Create list of coordinates"
   ]
  },
  {
   "cell_type": "code",
   "execution_count": null,
   "id": "53fdaf33",
   "metadata": {},
   "outputs": [],
   "source": [
    "PosList = [[148,-17],[150,-20],[153,-22]]"
   ]
  },
  {
   "cell_type": "markdown",
   "id": "d0519a2b",
   "metadata": {},
   "source": [
    "# Use function to convert positions to Region of Interest (ROI)\n",
    "\n",
    "## Choose any size of region [km]"
   ]
  },
  {
   "cell_type": "code",
   "execution_count": null,
   "id": "8b68029e",
   "metadata": {},
   "outputs": [],
   "source": [
    "size = 100"
   ]
  },
  {
   "cell_type": "code",
   "execution_count": null,
   "id": "f547d62d",
   "metadata": {},
   "outputs": [],
   "source": [
    "C_List = CoordsCalcList(PosList)"
   ]
  },
  {
   "cell_type": "markdown",
   "id": "5b8c4fc6",
   "metadata": {},
   "source": [
    "# Plot data in a ROI"
   ]
  },
  {
   "cell_type": "code",
   "execution_count": null,
   "id": "d3ef416d",
   "metadata": {},
   "outputs": [],
   "source": [
    "KD490_Plot_Data_Region (File, C_List[0],grid=False)"
   ]
  },
  {
   "cell_type": "markdown",
   "id": "50c4d7dc",
   "metadata": {},
   "source": [
    "# Plot average value through time"
   ]
  },
  {
   "cell_type": "code",
   "execution_count": null,
   "id": "f45b25bc",
   "metadata": {},
   "outputs": [],
   "source": [
    "MutiFile_Data_plotting(Folder_monthly, C_List[0])"
   ]
  },
  {
   "cell_type": "markdown",
   "id": "800f60f0",
   "metadata": {},
   "source": [
    "# Choose single position and plot data with std"
   ]
  },
  {
   "cell_type": "code",
   "execution_count": null,
   "id": "605a7bde",
   "metadata": {},
   "outputs": [],
   "source": [
    "Pos = [[154,-22]]\n",
    "MultiPos_MonthlyVar_Plot(size, Pos, Folder_yearly, '2023-01','2023-12', Map=False)"
   ]
  },
  {
   "cell_type": "markdown",
   "id": "88f9b614",
   "metadata": {},
   "source": [
    "# Compare Daily data to Monthly Data"
   ]
  },
  {
   "cell_type": "code",
   "execution_count": null,
   "id": "9ee48287",
   "metadata": {},
   "outputs": [],
   "source": [
    "Folders = [Year,Monthly]\n",
    "Compare_dataBinning_plot ('2023-01','2023-12', Folders C_List[0])"
   ]
  }
 ],
 "metadata": {
  "kernelspec": {
   "display_name": "Python 3 (ipykernel)",
   "language": "python",
   "name": "python3"
  },
  "language_info": {
   "codemirror_mode": {
    "name": "ipython",
    "version": 3
   },
   "file_extension": ".py",
   "mimetype": "text/x-python",
   "name": "python",
   "nbconvert_exporter": "python",
   "pygments_lexer": "ipython3",
   "version": "3.9.13"
  }
 },
 "nbformat": 4,
 "nbformat_minor": 5
}
