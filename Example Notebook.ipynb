{
 "cells": [
  {
   "cell_type": "markdown",
   "id": "2bbca5d9",
   "metadata": {},
   "source": [
    "# Install all Dependencies"
   ]
  },
  {
   "cell_type": "markdown",
   "id": "5e5d74d9",
   "metadata": {},
   "source": [
    "pip install matplotlib"
   ]
  },
  {
   "cell_type": "markdown",
   "id": "a14d3539",
   "metadata": {},
   "source": [
    "pip install numpy"
   ]
  },
  {
   "cell_type": "markdown",
   "id": "63f16d4e",
   "metadata": {},
   "source": [
    "pip install cartopy"
   ]
  },
  {
   "cell_type": "markdown",
   "id": "06173ba1",
   "metadata": {},
   "source": [
    "pip install netCDF4 # conda install -c conda-forge netCDF4"
   ]
  },
  {
   "cell_type": "markdown",
   "id": "5fba1ca1",
   "metadata": {},
   "source": [
    "pip install imageio"
   ]
  },
  {
   "cell_type": "markdown",
   "id": "07adfa3c",
   "metadata": {},
   "source": [
    "pip install ffmpeg"
   ]
  },
  {
   "cell_type": "markdown",
   "id": "7d0ab989",
   "metadata": {},
   "source": [
    "# Import Function Library"
   ]
  },
  {
   "cell_type": "code",
   "execution_count": null,
   "id": "41b02c46",
   "metadata": {},
   "outputs": [],
   "source": [
    "from netCDF_Lib_v2 import *"
   ]
  },
  {
   "cell_type": "markdown",
   "id": "6323b17c",
   "metadata": {},
   "source": [
    "# Store folder-paths "
   ]
  },
  {
   "cell_type": "code",
   "execution_count": null,
   "id": "358e445e",
   "metadata": {},
   "outputs": [],
   "source": [
    "Folder_monthly = r'<paste folder-path here>'\n",
    "Folder_daily = r'<paste folder-path here>'"
   ]
  },
  {
   "cell_type": "markdown",
   "id": "fcaa59a2",
   "metadata": {},
   "source": [
    "# Select a single folder"
   ]
  },
  {
   "cell_type": "code",
   "execution_count": null,
   "id": "c921cc7e",
   "metadata": {},
   "outputs": [],
   "source": [
    "File = MultiFile_FileNames(Folder_monthly)[1]"
   ]
  },
  {
   "cell_type": "markdown",
   "id": "264f0daa",
   "metadata": {},
   "source": [
    "# Simple Data Plot"
   ]
  },
  {
   "cell_type": "code",
   "execution_count": null,
   "id": "aa25bbec",
   "metadata": {},
   "outputs": [],
   "source": [
    "KD490_Plot_Data(File)"
   ]
  },
  {
   "cell_type": "markdown",
   "id": "9c66800a",
   "metadata": {},
   "source": [
    "# Create list of coordinates"
   ]
  },
  {
   "cell_type": "code",
   "execution_count": null,
   "id": "b4fec020",
   "metadata": {},
   "outputs": [],
   "source": [
    "PosList = [[148,-17],[150,-20],[153,-22]]"
   ]
  },
  {
   "cell_type": "markdown",
   "id": "a25c3c00",
   "metadata": {},
   "source": [
    "# Use function to convert positions to Region of Interest (ROI)\n",
    "\n",
    "## Choose any size of region [km]"
   ]
  },
  {
   "cell_type": "code",
   "execution_count": null,
   "id": "2f3acb54",
   "metadata": {},
   "outputs": [],
   "source": [
    "size = 100"
   ]
  },
  {
   "cell_type": "code",
   "execution_count": null,
   "id": "d93c92d3",
   "metadata": {},
   "outputs": [],
   "source": [
    "C_List = CoordsCalcList(size, PosList)"
   ]
  },
  {
   "cell_type": "markdown",
   "id": "a660226d",
   "metadata": {},
   "source": [
    "# Plot data in a ROI"
   ]
  },
  {
   "cell_type": "code",
   "execution_count": null,
   "id": "f88c7ab2",
   "metadata": {},
   "outputs": [],
   "source": [
    "KD490_Plot_Data_Region (File, C_List[0], grid=False)"
   ]
  },
  {
   "cell_type": "markdown",
   "id": "6c36ebfe",
   "metadata": {},
   "source": [
    "# Plot average value through time"
   ]
  },
  {
   "cell_type": "code",
   "execution_count": null,
   "id": "ec3512ea",
   "metadata": {},
   "outputs": [],
   "source": [
    "MutiFile_Data_plotting(Folder_monthly, C_List[0])"
   ]
  },
  {
   "cell_type": "markdown",
   "id": "dc3fe866",
   "metadata": {},
   "source": [
    "# Choose single position and plot data with std"
   ]
  },
  {
   "cell_type": "code",
   "execution_count": null,
   "id": "151c874f",
   "metadata": {},
   "outputs": [],
   "source": [
    "Pos = [[154,-22]]\n",
    "MultiPos_MonthlyVar_Plot(size, Pos, Folder_daily, '2023-01','2023-12', Map=False)"
   ]
  },
  {
   "cell_type": "markdown",
   "id": "b060e156",
   "metadata": {},
   "source": [
    "# Compare Daily data to Monthly Data"
   ]
  },
  {
   "cell_type": "code",
   "execution_count": null,
   "id": "8ff9c87c",
   "metadata": {},
   "outputs": [],
   "source": [
    "Folders = [ Folder_daily, Folder_monthly ]\n",
    "Compare_dataBinning_plot ('2023-01','2023-12', Folders C_List[2])"
   ]
  }
 ],
 "metadata": {
  "kernelspec": {
   "display_name": "Python 3 (ipykernel)",
   "language": "python",
   "name": "python3"
  },
  "language_info": {
   "codemirror_mode": {
    "name": "ipython",
    "version": 3
   },
   "file_extension": ".py",
   "mimetype": "text/x-python",
   "name": "python",
   "nbconvert_exporter": "python",
   "pygments_lexer": "ipython3",
   "version": "3.9.13"
  }
 },
 "nbformat": 4,
 "nbformat_minor": 5
}
